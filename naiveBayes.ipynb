{
  "nbformat": 4,
  "nbformat_minor": 0,
  "metadata": {
    "colab": {
      "name": "naiveBayes.ipynb",
      "provenance": [],
      "collapsed_sections": [
        "kd4SjLweXL1t"
      ],
      "authorship_tag": "ABX9TyPjrOtIhF8fTV9fFjAarE1F",
      "include_colab_link": true
    },
    "kernelspec": {
      "name": "python3",
      "display_name": "Python 3"
    }
  },
  "cells": [
    {
      "cell_type": "markdown",
      "metadata": {
        "id": "view-in-github",
        "colab_type": "text"
      },
      "source": [
        "<a href=\"https://colab.research.google.com/github/GokulGopinath/Machine-Learning-Algorithms-Implementation/blob/master/naiveBayes.ipynb\" target=\"_parent\"><img src=\"https://colab.research.google.com/assets/colab-badge.svg\" alt=\"Open In Colab\"/></a>"
      ]
    },
    {
      "cell_type": "code",
      "metadata": {
        "id": "lM7Yxm4GzMia",
        "colab_type": "code",
        "outputId": "e247ddc0-bee6-42bf-d36c-82fb9c607e95",
        "colab": {
          "base_uri": "https://localhost:8080/",
          "height": 483
        }
      },
      "source": [
        "import pandas as pd\n",
        "outlook= ['s','s','o','r','r','r','o','s','s','r','s','o','o','r']\n",
        "temp=    ['h','h','h','m','c','c','c','m','c','m','m','m','h','m']\n",
        "humidity=['hi','hi','hi','hi','n','n','n','hi','n','n','n','hi','n','hi']\n",
        "windy   =['f','t','f','f','f','t','t','f','f','f','t','t','f','t']\n",
        "playgolf=['n','n','y','y','y','n','y','n','y','y','y','y','y','n']\n",
        "dataset={'outlook':outlook,\n",
        "         'temp':temp,\n",
        "         'humidity':humidity,\n",
        "         'windy':windy,\n",
        "         'playgolf':playgolf}\n",
        "df=pd.DataFrame(dataset)\n",
        "df"
      ],
      "execution_count": 0,
      "outputs": [
        {
          "output_type": "execute_result",
          "data": {
            "text/html": [
              "<div>\n",
              "<style scoped>\n",
              "    .dataframe tbody tr th:only-of-type {\n",
              "        vertical-align: middle;\n",
              "    }\n",
              "\n",
              "    .dataframe tbody tr th {\n",
              "        vertical-align: top;\n",
              "    }\n",
              "\n",
              "    .dataframe thead th {\n",
              "        text-align: right;\n",
              "    }\n",
              "</style>\n",
              "<table border=\"1\" class=\"dataframe\">\n",
              "  <thead>\n",
              "    <tr style=\"text-align: right;\">\n",
              "      <th></th>\n",
              "      <th>outlook</th>\n",
              "      <th>temp</th>\n",
              "      <th>humidity</th>\n",
              "      <th>windy</th>\n",
              "      <th>playgolf</th>\n",
              "    </tr>\n",
              "  </thead>\n",
              "  <tbody>\n",
              "    <tr>\n",
              "      <th>0</th>\n",
              "      <td>s</td>\n",
              "      <td>h</td>\n",
              "      <td>hi</td>\n",
              "      <td>f</td>\n",
              "      <td>n</td>\n",
              "    </tr>\n",
              "    <tr>\n",
              "      <th>1</th>\n",
              "      <td>s</td>\n",
              "      <td>h</td>\n",
              "      <td>hi</td>\n",
              "      <td>t</td>\n",
              "      <td>n</td>\n",
              "    </tr>\n",
              "    <tr>\n",
              "      <th>2</th>\n",
              "      <td>o</td>\n",
              "      <td>h</td>\n",
              "      <td>hi</td>\n",
              "      <td>f</td>\n",
              "      <td>y</td>\n",
              "    </tr>\n",
              "    <tr>\n",
              "      <th>3</th>\n",
              "      <td>r</td>\n",
              "      <td>m</td>\n",
              "      <td>hi</td>\n",
              "      <td>f</td>\n",
              "      <td>y</td>\n",
              "    </tr>\n",
              "    <tr>\n",
              "      <th>4</th>\n",
              "      <td>r</td>\n",
              "      <td>c</td>\n",
              "      <td>n</td>\n",
              "      <td>f</td>\n",
              "      <td>y</td>\n",
              "    </tr>\n",
              "    <tr>\n",
              "      <th>5</th>\n",
              "      <td>r</td>\n",
              "      <td>c</td>\n",
              "      <td>n</td>\n",
              "      <td>t</td>\n",
              "      <td>n</td>\n",
              "    </tr>\n",
              "    <tr>\n",
              "      <th>6</th>\n",
              "      <td>o</td>\n",
              "      <td>c</td>\n",
              "      <td>n</td>\n",
              "      <td>t</td>\n",
              "      <td>y</td>\n",
              "    </tr>\n",
              "    <tr>\n",
              "      <th>7</th>\n",
              "      <td>s</td>\n",
              "      <td>m</td>\n",
              "      <td>hi</td>\n",
              "      <td>f</td>\n",
              "      <td>n</td>\n",
              "    </tr>\n",
              "    <tr>\n",
              "      <th>8</th>\n",
              "      <td>s</td>\n",
              "      <td>c</td>\n",
              "      <td>n</td>\n",
              "      <td>f</td>\n",
              "      <td>y</td>\n",
              "    </tr>\n",
              "    <tr>\n",
              "      <th>9</th>\n",
              "      <td>r</td>\n",
              "      <td>m</td>\n",
              "      <td>n</td>\n",
              "      <td>f</td>\n",
              "      <td>y</td>\n",
              "    </tr>\n",
              "    <tr>\n",
              "      <th>10</th>\n",
              "      <td>s</td>\n",
              "      <td>m</td>\n",
              "      <td>n</td>\n",
              "      <td>t</td>\n",
              "      <td>y</td>\n",
              "    </tr>\n",
              "    <tr>\n",
              "      <th>11</th>\n",
              "      <td>o</td>\n",
              "      <td>m</td>\n",
              "      <td>hi</td>\n",
              "      <td>t</td>\n",
              "      <td>y</td>\n",
              "    </tr>\n",
              "    <tr>\n",
              "      <th>12</th>\n",
              "      <td>o</td>\n",
              "      <td>h</td>\n",
              "      <td>n</td>\n",
              "      <td>f</td>\n",
              "      <td>y</td>\n",
              "    </tr>\n",
              "    <tr>\n",
              "      <th>13</th>\n",
              "      <td>r</td>\n",
              "      <td>m</td>\n",
              "      <td>hi</td>\n",
              "      <td>t</td>\n",
              "      <td>n</td>\n",
              "    </tr>\n",
              "  </tbody>\n",
              "</table>\n",
              "</div>"
            ],
            "text/plain": [
              "   outlook temp humidity windy playgolf\n",
              "0        s    h       hi     f        n\n",
              "1        s    h       hi     t        n\n",
              "2        o    h       hi     f        y\n",
              "3        r    m       hi     f        y\n",
              "4        r    c        n     f        y\n",
              "5        r    c        n     t        n\n",
              "6        o    c        n     t        y\n",
              "7        s    m       hi     f        n\n",
              "8        s    c        n     f        y\n",
              "9        r    m        n     f        y\n",
              "10       s    m        n     t        y\n",
              "11       o    m       hi     t        y\n",
              "12       o    h        n     f        y\n",
              "13       r    m       hi     t        n"
            ]
          },
          "metadata": {
            "tags": []
          },
          "execution_count": 7
        }
      ]
    },
    {
      "cell_type": "code",
      "metadata": {
        "id": "zrFd09pXF5ht",
        "colab_type": "code",
        "outputId": "fef34153-fb6f-49d9-83a6-b9983e87ebc1",
        "colab": {
          "base_uri": "https://localhost:8080/",
          "height": 34
        }
      },
      "source": [
        "#just for practice\n",
        "def fn(col):\n",
        " return df[df[col]=='r'][col].count()\n",
        "fn('outlook')"
      ],
      "execution_count": 0,
      "outputs": [
        {
          "output_type": "execute_result",
          "data": {
            "text/plain": [
              "5"
            ]
          },
          "metadata": {
            "tags": []
          },
          "execution_count": 17
        }
      ]
    },
    {
      "cell_type": "code",
      "metadata": {
        "id": "h3U_Y32lBoYL",
        "colab_type": "code",
        "outputId": "b9611723-92eb-4191-e8e4-dd5e40098a08",
        "colab": {
          "base_uri": "https://localhost:8080/",
          "height": 34
        }
      },
      "source": [
        "def prob_yes(col,category):\n",
        "  category_no=df[(df[col]==category) & (df['playgolf']=='y')][col].count()\n",
        "  yes_no=df[df['playgolf']=='y']['playgolf'].count()\n",
        "  prob_yes=category_no/yes_no\n",
        "  return prob_yes\n",
        "prob_yes('outlook','s')  "
      ],
      "execution_count": 0,
      "outputs": [
        {
          "output_type": "execute_result",
          "data": {
            "text/plain": [
              "0.2222222222222222"
            ]
          },
          "metadata": {
            "tags": []
          },
          "execution_count": 23
        }
      ]
    },
    {
      "cell_type": "code",
      "metadata": {
        "id": "icik1ZYkBocR",
        "colab_type": "code",
        "outputId": "e43ed96b-8b28-40fe-b8f4-2da79141a969",
        "colab": {
          "base_uri": "https://localhost:8080/",
          "height": 34
        }
      },
      "source": [
        "def prob_no(col,category):\n",
        "  category_no=df[(df[col]==category) & (df['playgolf']=='n')][col].count()\n",
        "  no_no=df[df['playgolf']=='n']['playgolf'].count()\n",
        "  prob_no=category_no/no_no\n",
        "  return prob_no\n",
        "prob_no('outlook','r')"
      ],
      "execution_count": 0,
      "outputs": [
        {
          "output_type": "execute_result",
          "data": {
            "text/plain": [
              "0.4"
            ]
          },
          "metadata": {
            "tags": []
          },
          "execution_count": 25
        }
      ]
    },
    {
      "cell_type": "code",
      "metadata": {
        "id": "x_Bxn4W6BofX",
        "colab_type": "code",
        "outputId": "ddb57df8-86e8-43c0-8abc-c3ddab8a211c",
        "colab": {
          "base_uri": "https://localhost:8080/",
          "height": 34
        }
      },
      "source": [
        "p_yes=df[df['playgolf']=='y']['playgolf'].count()/df['playgolf'].count()\n",
        "p_yes"
      ],
      "execution_count": 0,
      "outputs": [
        {
          "output_type": "execute_result",
          "data": {
            "text/plain": [
              "0.6428571428571429"
            ]
          },
          "metadata": {
            "tags": []
          },
          "execution_count": 27
        }
      ]
    },
    {
      "cell_type": "code",
      "metadata": {
        "id": "kC8r5FgCBoik",
        "colab_type": "code",
        "outputId": "7ad84f5f-3a90-4618-faa5-ff9defe04a4c",
        "colab": {
          "base_uri": "https://localhost:8080/",
          "height": 34
        }
      },
      "source": [
        "p_no=df[df['playgolf']=='n']['playgolf'].count()/df['playgolf'].count()\n",
        "p_no"
      ],
      "execution_count": 0,
      "outputs": [
        {
          "output_type": "execute_result",
          "data": {
            "text/plain": [
              "0.35714285714285715"
            ]
          },
          "metadata": {
            "tags": []
          },
          "execution_count": 30
        }
      ]
    },
    {
      "cell_type": "code",
      "metadata": {
        "id": "h3BY-e8gBoaN",
        "colab_type": "code",
        "outputId": "02d5e662-6277-42fc-c5f6-9dc7c3e121f0",
        "colab": {
          "base_uri": "https://localhost:8080/",
          "height": 34
        }
      },
      "source": [
        "def compute_prob(o,t,h,w):\n",
        "  prob_y=prob_yes('outlook',o)*prob_yes('temp',t)*prob_yes('humidity',h)*prob_yes('windy',w)*p_yes\n",
        "  prob_n=prob_no('outlook',o)*prob_no('temp',t)*prob_no('humidity',h)*prob_no('windy',w)*p_no\n",
        "  return prob_y,prob_n\n",
        "compute_prob('r','h','hi','f')"
      ],
      "execution_count": 0,
      "outputs": [
        {
          "output_type": "execute_result",
          "data": {
            "text/plain": [
              "(0.010582010582010581, 0.01828571428571429)"
            ]
          },
          "metadata": {
            "tags": []
          },
          "execution_count": 31
        }
      ]
    },
    {
      "cell_type": "code",
      "metadata": {
        "id": "KNdyx9w6BoWC",
        "colab_type": "code",
        "outputId": "982b2f4c-57bc-4188-9315-627c29540e70",
        "colab": {
          "base_uri": "https://localhost:8080/",
          "height": 34
        }
      },
      "source": [
        "yes,no=compute_prob('r','h','hi','f')\n",
        "if yes>no:\n",
        "  print(\"yes\")\n",
        "else:\n",
        "  print(\"no\")"
      ],
      "execution_count": 0,
      "outputs": [
        {
          "output_type": "stream",
          "text": [
            "no\n"
          ],
          "name": "stdout"
        }
      ]
    },
    {
      "cell_type": "markdown",
      "metadata": {
        "id": "kd4SjLweXL1t",
        "colab_type": "text"
      },
      "source": [
        "# Extra"
      ]
    },
    {
      "cell_type": "code",
      "metadata": {
        "id": "qaoXwCPn6wYW",
        "colab_type": "code",
        "outputId": "a8142aa5-3986-4d48-cc08-871b510113e8",
        "colab": {
          "base_uri": "https://localhost:8080/",
          "height": 34
        }
      },
      "source": [
        "dict_outlook = {} \n",
        "for ele in dict_outlook:\n",
        "  dict_outlook\n",
        "for ele in set(outlook):\n",
        "  dict_outlook[ele]=0\n",
        "for ele in outlook:\n",
        "  dict_outlook[ele]=dict_outlook[ele]+1\n",
        "for i in range(len(outlook)):\n",
        "   if()\n",
        "\n",
        "dict_outlook"
      ],
      "execution_count": 0,
      "outputs": [
        {
          "output_type": "execute_result",
          "data": {
            "text/plain": [
              "{'o': 4, 'r': 5, 's': 5}"
            ]
          },
          "metadata": {
            "tags": []
          },
          "execution_count": 9
        }
      ]
    },
    {
      "cell_type": "code",
      "metadata": {
        "id": "gGfN-n-s-5ah",
        "colab_type": "code",
        "outputId": "d7182a38-b702-4fe0-bca2-cb2d5c0033d5",
        "colab": {
          "base_uri": "https://localhost:8080/",
          "height": 34
        }
      },
      "source": [
        "dict_humidity = {} \n",
        "for ele in set(humidity):\n",
        "  dict_humidity[ele]=0\n",
        "for ele in humidity:\n",
        "  dict_humidity[ele]=dict_humidity[ele]+1\n",
        "\n",
        "dict_humidity"
      ],
      "execution_count": 0,
      "outputs": [
        {
          "output_type": "execute_result",
          "data": {
            "text/plain": [
              "{'hi': 7, 'n': 7}"
            ]
          },
          "metadata": {
            "tags": []
          },
          "execution_count": 12
        }
      ]
    },
    {
      "cell_type": "code",
      "metadata": {
        "id": "NTQba8WpBOWl",
        "colab_type": "code",
        "outputId": "1040ae23-e3c8-49fd-aace-d9d832484e3d",
        "colab": {
          "base_uri": "https://localhost:8080/",
          "height": 34
        }
      },
      "source": [
        "dict_windy = {} \n",
        "for ele in set(windy):\n",
        "  dict_windy[ele]=0\n",
        "for ele in windy:\n",
        "  dict_windy[ele]=dict_windy[ele]+1\n",
        "\n",
        "dict_windy"
      ],
      "execution_count": 0,
      "outputs": [
        {
          "output_type": "execute_result",
          "data": {
            "text/plain": [
              "{'f': 8, 't': 6}"
            ]
          },
          "metadata": {
            "tags": []
          },
          "execution_count": 13
        }
      ]
    },
    {
      "cell_type": "code",
      "metadata": {
        "id": "7kNknPkDBeyl",
        "colab_type": "code",
        "outputId": "8649395c-2b7f-4e07-8eb8-13e458776b7f",
        "colab": {
          "base_uri": "https://localhost:8080/",
          "height": 34
        }
      },
      "source": [
        "dict_windy = {} \n",
        "for ele in set(windy):\n",
        "  dict_windy[ele]=0\n",
        "for ele in windy:\n",
        "  dict_windy[ele]=dict_windy[ele]+1\n",
        "\n",
        "dict_windy"
      ],
      "execution_count": 0,
      "outputs": [
        {
          "output_type": "execute_result",
          "data": {
            "text/plain": [
              "{'f': 8, 't': 6}"
            ]
          },
          "metadata": {
            "tags": []
          },
          "execution_count": 14
        }
      ]
    },
    {
      "cell_type": "code",
      "metadata": {
        "id": "rJDiaiAsEki6",
        "colab_type": "code",
        "outputId": "6a75b30f-8825-4189-b39d-f2fd280ad57e",
        "colab": {
          "base_uri": "https://localhost:8080/",
          "height": 34
        }
      },
      "source": [
        "dict_playgolf = {} \n",
        "for ele in set(playgolf):\n",
        "  dict_playgolf[ele]=0\n",
        "for ele in playgolf:\n",
        "  dict_playgolf[ele]=dict_playgolf[ele]+1\n",
        "\n",
        "dict_playgolf"
      ],
      "execution_count": 0,
      "outputs": [
        {
          "output_type": "execute_result",
          "data": {
            "text/plain": [
              "{'n': 5, 'y': 9}"
            ]
          },
          "metadata": {
            "tags": []
          },
          "execution_count": 15
        }
      ]
    },
    {
      "cell_type": "code",
      "metadata": {
        "id": "iI-h0e4hE2mM",
        "colab_type": "code",
        "colab": {}
      },
      "source": [
        ""
      ],
      "execution_count": 0,
      "outputs": []
    }
  ]
}