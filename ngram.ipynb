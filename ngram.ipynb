{
  "nbformat": 4,
  "nbformat_minor": 0,
  "metadata": {
    "colab": {
      "name": "ngram.ipynb",
      "provenance": [],
      "authorship_tag": "ABX9TyP60RVkUVwAaxnWMWfH37p4",
      "include_colab_link": true
    },
    "kernelspec": {
      "name": "python3",
      "display_name": "Python 3"
    }
  },
  "cells": [
    {
      "cell_type": "markdown",
      "metadata": {
        "id": "view-in-github",
        "colab_type": "text"
      },
      "source": [
        "<a href=\"https://colab.research.google.com/github/GokulGopinath/Machine-Learning-Algorithms-Implementation/blob/master/ngram.ipynb\" target=\"_parent\"><img src=\"https://colab.research.google.com/assets/colab-badge.svg\" alt=\"Open In Colab\"/></a>"
      ]
    },
    {
      "cell_type": "code",
      "metadata": {
        "id": "NVTii5GTjVxz"
      },
      "source": [
        "from collections import defaultdict \r\n"
      ],
      "execution_count": 25,
      "outputs": []
    },
    {
      "cell_type": "code",
      "metadata": {
        "colab": {
          "base_uri": "https://localhost:8080/"
        },
        "id": "CCqknvksjYu8",
        "outputId": "0fd48cfb-d3d9-404d-cc2d-92dfec717cae"
      },
      "source": [
        "sentence = \"I really like python, it's pretty awesome.\"\r\n",
        "\r\n",
        "N = 4\r\n",
        "\r\n",
        "\r\n"
      ],
      "execution_count": 3,
      "outputs": [
        {
          "output_type": "stream",
          "text": [
            "['I', 'really', 'like', 'python,']\n",
            "['really', 'like', 'python,', \"it's\"]\n",
            "['like', 'python,', \"it's\", 'pretty']\n",
            "['python,', \"it's\", 'pretty', 'awesome.']\n"
          ],
          "name": "stdout"
        }
      ]
    },
    {
      "cell_type": "code",
      "metadata": {
        "id": "BneIUYUr5nrB"
      },
      "source": [
        ""
      ],
      "execution_count": null,
      "outputs": []
    },
    {
      "cell_type": "code",
      "metadata": {
        "id": "RztDXPaJ5JVu"
      },
      "source": [
        "dataset=[\"I really like python it's pretty awesome\",\"I like playing cricket\"]"
      ],
      "execution_count": 4,
      "outputs": []
    },
    {
      "cell_type": "code",
      "metadata": {
        "id": "kidsOuMa5dAt"
      },
      "source": [
        "\r\n",
        "\r\n",
        "def def_value(): \r\n",
        "    return 0\r\n",
        "def def_empty_dct(): \r\n",
        "    return {}\r\n",
        "dct=defaultdict(def_empty_dct)\r\n",
        "def create_dct(dataset,n):\r\n",
        "  lst_grams=[]\r\n",
        "  output=[]\r\n",
        "  lst_output=[]\r\n",
        "  for sentence in dataset:\r\n",
        "    sentence=sentence.split();\r\n",
        "    \r\n",
        "    grams= [sentence[i:i+n] for i in range(len(sentence)-n+1)]\r\n",
        "    sentence.append('/s')\r\n",
        "\r\n",
        "    for i in range(n,len(sentence)):\r\n",
        "      output.append(sentence[i])\r\n",
        "\r\n",
        "    for gram in grams: \r\n",
        "      print (gram)\r\n",
        "    lst_grams.append(grams)\r\n",
        "\r\n",
        "  print()\r\n",
        "  print()\r\n",
        "  lst=[]\r\n",
        "  next_words=[]\r\n",
        "  for grams in lst_grams:\r\n",
        "    for gram in grams:\r\n",
        "      temp=gram[0] \r\n",
        "      for i in range(1,len(gram)):\r\n",
        "        temp+=\" \"+gram[i];\r\n",
        "      lst.append(temp)\r\n",
        "  print(lst)\r\n",
        "  print(output)\r\n",
        "  for i in range(len(lst)):\r\n",
        "    dct[lst[i]]=defaultdict(def_value)\r\n",
        "    dct[lst[i]][output[i]]+=1\r\n",
        "\r\n",
        "\r\n",
        "\r\n",
        "\r\n",
        "\r\n",
        "    \r\n",
        "\r\n",
        "\r\n",
        "   \r\n",
        "\r\n",
        "\r\n"
      ],
      "execution_count": 44,
      "outputs": []
    },
    {
      "cell_type": "code",
      "metadata": {
        "colab": {
          "base_uri": "https://localhost:8080/"
        },
        "id": "lVUg1qdm5dCz",
        "outputId": "ed14f3ad-4d2b-4764-de36-3277049fa382"
      },
      "source": [
        "n=int(input(\"Enter the value of n:\"))\r\n",
        "create_dct(dataset,n-1)"
      ],
      "execution_count": 45,
      "outputs": [
        {
          "output_type": "stream",
          "text": [
            "Enter the value of n:2\n",
            "['I']\n",
            "['really']\n",
            "['like']\n",
            "['python']\n",
            "[\"it's\"]\n",
            "['pretty']\n",
            "['awesome']\n",
            "['I']\n",
            "['like']\n",
            "['playing']\n",
            "['cricket']\n",
            "\n",
            "\n",
            "['I', 'really', 'like', 'python', \"it's\", 'pretty', 'awesome', 'I', 'like', 'playing', 'cricket']\n",
            "['really', 'like', 'python', \"it's\", 'pretty', 'awesome', '/s', 'like', 'playing', 'cricket', '/s']\n"
          ],
          "name": "stdout"
        }
      ]
    },
    {
      "cell_type": "code",
      "metadata": {
        "colab": {
          "base_uri": "https://localhost:8080/"
        },
        "id": "2XEn7JpF5dEx",
        "outputId": "f68c57ca-e7c9-4513-cf6e-8749b34ef8c4"
      },
      "source": [
        "dct"
      ],
      "execution_count": 46,
      "outputs": [
        {
          "output_type": "execute_result",
          "data": {
            "text/plain": [
              "defaultdict(<function __main__.def_empty_dct>,\n",
              "            {'I': defaultdict(<function __main__.def_value>, {'like': 1}),\n",
              "             'awesome': defaultdict(<function __main__.def_value>, {'/s': 1}),\n",
              "             'cricket': defaultdict(<function __main__.def_value>, {'/s': 1}),\n",
              "             \"it's\": defaultdict(<function __main__.def_value>, {'pretty': 1}),\n",
              "             'like': defaultdict(<function __main__.def_value>,\n",
              "                         {'playing': 1}),\n",
              "             'playing': defaultdict(<function __main__.def_value>,\n",
              "                         {'cricket': 1}),\n",
              "             'pretty': defaultdict(<function __main__.def_value>,\n",
              "                         {'awesome': 1}),\n",
              "             'python': defaultdict(<function __main__.def_value>, {\"it's\": 1}),\n",
              "             'really': defaultdict(<function __main__.def_value>,\n",
              "                         {'like': 1})})"
            ]
          },
          "metadata": {
            "tags": []
          },
          "execution_count": 46
        }
      ]
    },
    {
      "cell_type": "code",
      "metadata": {
        "colab": {
          "base_uri": "https://localhost:8080/"
        },
        "id": "D0nMURvO5dH1",
        "outputId": "d0257075-1167-4251-85d1-05f4356ba6f2"
      },
      "source": [
        "for i in dct[\"python\"]:\r\n",
        "  print(i)"
      ],
      "execution_count": 49,
      "outputs": [
        {
          "output_type": "stream",
          "text": [
            "it's\n"
          ],
          "name": "stdout"
        }
      ]
    },
    {
      "cell_type": "code",
      "metadata": {
        "id": "UPmKbsbCImDt"
      },
      "source": [
        "def predict_next_word(sentence):\r\n",
        "  if len(dct[sentence])==0:\r\n",
        "    print(\"can't predict\")\r\n",
        "  else:\r\n",
        "    \r\n",
        "    print(max(dct[sentence], key=dct[sentence].get))\r\n",
        "\r\n"
      ],
      "execution_count": 50,
      "outputs": []
    },
    {
      "cell_type": "code",
      "metadata": {
        "colab": {
          "base_uri": "https://localhost:8080/"
        },
        "id": "bY4eC3zSO__D",
        "outputId": "dcfdbe34-e2d9-4640-e963-2710cff6452b"
      },
      "source": [
        "predict_next_word(\"I\")"
      ],
      "execution_count": 51,
      "outputs": [
        {
          "output_type": "stream",
          "text": [
            "like\n"
          ],
          "name": "stdout"
        }
      ]
    },
    {
      "cell_type": "code",
      "metadata": {
        "id": "S7enL3VdPE_t"
      },
      "source": [
        ""
      ],
      "execution_count": null,
      "outputs": []
    }
  ]
}