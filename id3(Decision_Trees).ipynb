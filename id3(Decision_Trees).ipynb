{
  "nbformat": 4,
  "nbformat_minor": 0,
  "metadata": {
    "colab": {
      "name": "id3(Decision Trees).ipynb",
      "provenance": [],
      "collapsed_sections": [],
      "authorship_tag": "ABX9TyOHHbNGxTDnX/rbW6qA2pQo",
      "include_colab_link": true
    },
    "kernelspec": {
      "name": "python3",
      "display_name": "Python 3"
    }
  },
  "cells": [
    {
      "cell_type": "markdown",
      "metadata": {
        "id": "view-in-github",
        "colab_type": "text"
      },
      "source": [
        "<a href=\"https://colab.research.google.com/github/GokulGopinath/Machine-Learning-Algorithms-Implementation/blob/master/id3(Decision_Trees).ipynb\" target=\"_parent\"><img src=\"https://colab.research.google.com/assets/colab-badge.svg\" alt=\"Open In Colab\"/></a>"
      ]
    },
    {
      "cell_type": "code",
      "metadata": {
        "id": "Dx8MFFQu62Me",
        "colab_type": "code",
        "outputId": "2ff986e2-7961-4f58-e3ec-58a489251638",
        "colab": {
          "base_uri": "https://localhost:8080/",
          "height": 359
        }
      },
      "source": [
        "import pandas as pd\n",
        "age= ['o','o','o','m','m','m','m','n','n','n']\n",
        "comp=    ['y','n','n','y','y','n','n','y','n','n']\n",
        "types=['s','s','h','s','h','h','s','s','h','s']\n",
        "profit   =['d','d','d','d','d','u','u','u','u','u']\n",
        "\n",
        "dataset={'age':age,\n",
        "         'comp':comp,\n",
        "         'types':types,\n",
        "         'profit':profit}\n",
        "df=pd.DataFrame(dataset)\n",
        "df"
      ],
      "execution_count": 15,
      "outputs": [
        {
          "output_type": "execute_result",
          "data": {
            "text/html": [
              "<div>\n",
              "<style scoped>\n",
              "    .dataframe tbody tr th:only-of-type {\n",
              "        vertical-align: middle;\n",
              "    }\n",
              "\n",
              "    .dataframe tbody tr th {\n",
              "        vertical-align: top;\n",
              "    }\n",
              "\n",
              "    .dataframe thead th {\n",
              "        text-align: right;\n",
              "    }\n",
              "</style>\n",
              "<table border=\"1\" class=\"dataframe\">\n",
              "  <thead>\n",
              "    <tr style=\"text-align: right;\">\n",
              "      <th></th>\n",
              "      <th>age</th>\n",
              "      <th>comp</th>\n",
              "      <th>types</th>\n",
              "      <th>profit</th>\n",
              "    </tr>\n",
              "  </thead>\n",
              "  <tbody>\n",
              "    <tr>\n",
              "      <th>0</th>\n",
              "      <td>o</td>\n",
              "      <td>y</td>\n",
              "      <td>s</td>\n",
              "      <td>d</td>\n",
              "    </tr>\n",
              "    <tr>\n",
              "      <th>1</th>\n",
              "      <td>o</td>\n",
              "      <td>n</td>\n",
              "      <td>s</td>\n",
              "      <td>d</td>\n",
              "    </tr>\n",
              "    <tr>\n",
              "      <th>2</th>\n",
              "      <td>o</td>\n",
              "      <td>n</td>\n",
              "      <td>h</td>\n",
              "      <td>d</td>\n",
              "    </tr>\n",
              "    <tr>\n",
              "      <th>3</th>\n",
              "      <td>m</td>\n",
              "      <td>y</td>\n",
              "      <td>s</td>\n",
              "      <td>d</td>\n",
              "    </tr>\n",
              "    <tr>\n",
              "      <th>4</th>\n",
              "      <td>m</td>\n",
              "      <td>y</td>\n",
              "      <td>h</td>\n",
              "      <td>d</td>\n",
              "    </tr>\n",
              "    <tr>\n",
              "      <th>5</th>\n",
              "      <td>m</td>\n",
              "      <td>n</td>\n",
              "      <td>h</td>\n",
              "      <td>u</td>\n",
              "    </tr>\n",
              "    <tr>\n",
              "      <th>6</th>\n",
              "      <td>m</td>\n",
              "      <td>n</td>\n",
              "      <td>s</td>\n",
              "      <td>u</td>\n",
              "    </tr>\n",
              "    <tr>\n",
              "      <th>7</th>\n",
              "      <td>n</td>\n",
              "      <td>y</td>\n",
              "      <td>s</td>\n",
              "      <td>u</td>\n",
              "    </tr>\n",
              "    <tr>\n",
              "      <th>8</th>\n",
              "      <td>n</td>\n",
              "      <td>n</td>\n",
              "      <td>h</td>\n",
              "      <td>u</td>\n",
              "    </tr>\n",
              "    <tr>\n",
              "      <th>9</th>\n",
              "      <td>n</td>\n",
              "      <td>n</td>\n",
              "      <td>s</td>\n",
              "      <td>u</td>\n",
              "    </tr>\n",
              "  </tbody>\n",
              "</table>\n",
              "</div>"
            ],
            "text/plain": [
              "  age comp types profit\n",
              "0   o    y     s      d\n",
              "1   o    n     s      d\n",
              "2   o    n     h      d\n",
              "3   m    y     s      d\n",
              "4   m    y     h      d\n",
              "5   m    n     h      u\n",
              "6   m    n     s      u\n",
              "7   n    y     s      u\n",
              "8   n    n     h      u\n",
              "9   n    n     s      u"
            ]
          },
          "metadata": {
            "tags": []
          },
          "execution_count": 15
        }
      ]
    },
    {
      "cell_type": "markdown",
      "metadata": {
        "id": "Cfn3oQJ-co6B",
        "colab_type": "text"
      },
      "source": [
        "# Info(D)"
      ]
    },
    {
      "cell_type": "code",
      "metadata": {
        "id": "fiDm3AYo9_t2",
        "colab_type": "code",
        "colab": {
          "base_uri": "https://localhost:8080/",
          "height": 34
        },
        "outputId": "010ea789-8e5c-4420-df27-58e73aeaedc7"
      },
      "source": [
        "import math\n",
        "def info(col,df):\n",
        "  sum=0\n",
        "  for i in set(df[col]):\n",
        "    temp=df[df[col]==i][col].count()/df[col].count()\n",
        "    sum+=(-1)*temp*math.log(temp,2)\n",
        "  return sum\n",
        "info('profit',df)\n",
        "\n",
        "\n",
        "\n",
        "  "
      ],
      "execution_count": 49,
      "outputs": [
        {
          "output_type": "execute_result",
          "data": {
            "text/plain": [
              "1.0"
            ]
          },
          "metadata": {
            "tags": []
          },
          "execution_count": 49
        }
      ]
    },
    {
      "cell_type": "code",
      "metadata": {
        "id": "62X2o9Ooc_E6",
        "colab_type": "code",
        "colab": {
          "base_uri": "https://localhost:8080/",
          "height": 34
        },
        "outputId": "75dc35be-899c-43d2-996e-d5522d003a87"
      },
      "source": [
        "info('profit',df[df['age']=='m'])"
      ],
      "execution_count": 52,
      "outputs": [
        {
          "output_type": "execute_result",
          "data": {
            "text/plain": [
              "1.0"
            ]
          },
          "metadata": {
            "tags": []
          },
          "execution_count": 52
        }
      ]
    },
    {
      "cell_type": "markdown",
      "metadata": {
        "id": "_fKdYLCVcg2y",
        "colab_type": "text"
      },
      "source": [
        "# Info"
      ]
    },
    {
      "cell_type": "code",
      "metadata": {
        "id": "KtwpuA72PMv5",
        "colab_type": "code",
        "colab": {
          "base_uri": "https://localhost:8080/",
          "height": 85
        },
        "outputId": "db33c238-470e-45dc-e514-bc5549a21058"
      },
      "source": [
        "def info_col(col,df):\n",
        "  sum=0\n",
        "  for i in set(df[col]):\n",
        "    temp=df[df[col]==i][col].count()/df[col].count()\n",
        "    temp_d=df[(df[col]==i )& (df['profit']=='d')][col].count()/df[df[col]==i][col].count()\n",
        "    temp_u=df[(df[col]==i )& (df['profit']=='u')][col].count()/df[df[col]==i][col].count()\n",
        "    print(temp_d,temp_u)\n",
        "    #foll cond as log(0) is not defined\n",
        "    if temp_u==0:\n",
        "      sum+=temp*((-1)*temp_d*math.log(temp_d,2))\n",
        "    elif temp_d==0:\n",
        "      sum+=temp*((-1)*temp_u*math.log(temp_u,2))\n",
        "    elif (temp_d or temp_u)==0:\n",
        "      sum+=0\n",
        "    else:\n",
        "      sum+=temp*((-1)*temp_d*math.log(temp_d,2)+(-1)*temp_u*math.log(temp_u,2))\n",
        "\n",
        "  return sum\n",
        "print(\"info gain age:\",info_col('age',df))\n",
        "\n",
        "\n",
        "  \n",
        "\n"
      ],
      "execution_count": 81,
      "outputs": [
        {
          "output_type": "stream",
          "text": [
            "1.0 0.0\n",
            "0.0 1.0\n",
            "0.5 0.5\n",
            "info gain age: 0.4\n"
          ],
          "name": "stdout"
        }
      ]
    },
    {
      "cell_type": "code",
      "metadata": {
        "id": "Y5IqyVV8XWLK",
        "colab_type": "code",
        "colab": {
          "base_uri": "https://localhost:8080/",
          "height": 68
        },
        "outputId": "1097eb31-e556-4a38-d418-1db5560bbb62"
      },
      "source": [
        "print(\"info gain comp:\",info_col('comp'))"
      ],
      "execution_count": 46,
      "outputs": [
        {
          "output_type": "stream",
          "text": [
            "0.3333333333333333 0.6666666666666666\n",
            "0.75 0.25\n",
            "info gain comp: 0.8754887502163469\n"
          ],
          "name": "stdout"
        }
      ]
    },
    {
      "cell_type": "code",
      "metadata": {
        "id": "1gKLtF8ZXyY2",
        "colab_type": "code",
        "colab": {
          "base_uri": "https://localhost:8080/",
          "height": 68
        },
        "outputId": "b7e05505-5fba-41eb-cab6-9b4945031108"
      },
      "source": [
        "print(\"info gain type:\",info_col('types'))"
      ],
      "execution_count": 47,
      "outputs": [
        {
          "output_type": "stream",
          "text": [
            "0.5 0.5\n",
            "0.5 0.5\n",
            "info gain type: 1.0\n"
          ],
          "name": "stdout"
        }
      ]
    },
    {
      "cell_type": "markdown",
      "metadata": {
        "id": "hsL3rTMmcaDg",
        "colab_type": "text"
      },
      "source": [
        "## Gain"
      ]
    },
    {
      "cell_type": "code",
      "metadata": {
        "id": "2ahQB769bWuV",
        "colab_type": "code",
        "colab": {
          "base_uri": "https://localhost:8080/",
          "height": 85
        },
        "outputId": "0e3cd6a4-b615-4f0d-8b89-56441a12f1cd"
      },
      "source": [
        "def gain(col,df):\n",
        "  return info('profit',df)-info_col(col,df)\n",
        "print(\"gain of age is:\",gain('age',df))\n"
      ],
      "execution_count": 51,
      "outputs": [
        {
          "output_type": "stream",
          "text": [
            "1.0 0.0\n",
            "0.0 1.0\n",
            "0.5 0.5\n",
            "gain is: 0.6\n"
          ],
          "name": "stdout"
        }
      ]
    },
    {
      "cell_type": "markdown",
      "metadata": {
        "id": "SanAyXgQdXdh",
        "colab_type": "text"
      },
      "source": [
        "# Compute col with highest gain for a dataframe"
      ]
    },
    {
      "cell_type": "code",
      "metadata": {
        "id": "Bz0LP_ZcdWCz",
        "colab_type": "code",
        "colab": {
          "base_uri": "https://localhost:8080/",
          "height": 204
        },
        "outputId": "efd06e1b-c803-416b-ee5c-d1cd651d636e"
      },
      "source": [
        "def compute_col_highestGain(df):\n",
        "  maximum=0\n",
        "  col_name=\"hi\"\n",
        "  gains=0\n",
        "  for col in set(df.columns).difference(set(['profit'])):\n",
        "    gains=gain(col,df)\n",
        "    print(\"gain of\",col,\":\",gains)\n",
        "    if maximum<gains:\n",
        "      maximum=gains      \n",
        "      col_name=col\n",
        "  if col_name=='hi':\n",
        "    return set(df['profit']) #This gets executed when all col have gain 0\n",
        "  else:\n",
        "    return col_name\n",
        "print(\"Col with hoghest gain:\",compute_col_highestGain(df))\n"
      ],
      "execution_count": 89,
      "outputs": [
        {
          "output_type": "stream",
          "text": [
            "1.0 0.0\n",
            "0.0 1.0\n",
            "0.5 0.5\n",
            "gain of age : 0.6\n",
            "0.3333333333333333 0.6666666666666666\n",
            "0.75 0.25\n",
            "gain of comp : 0.12451124978365313\n",
            "0.5 0.5\n",
            "0.5 0.5\n",
            "gain of types : 0.0\n",
            "Col with hoghest gain: age\n"
          ],
          "name": "stdout"
        }
      ]
    },
    {
      "cell_type": "code",
      "metadata": {
        "id": "lMKR4NfqgzDj",
        "colab_type": "code",
        "colab": {
          "base_uri": "https://localhost:8080/",
          "height": 170
        },
        "outputId": "657d75d6-1f25-4661-ebe3-b00481bd6fa3"
      },
      "source": [
        "print(\"Col with hoghest gain:\",compute_col_highestGain(df[df['age']=='m']))"
      ],
      "execution_count": 85,
      "outputs": [
        {
          "output_type": "stream",
          "text": [
            "0.5 0.5\n",
            "gain of age : 0.0\n",
            "0.0 1.0\n",
            "1.0 0.0\n",
            "gain of comp : 1.0\n",
            "0.5 0.5\n",
            "0.5 0.5\n",
            "gain of types : 0.0\n",
            "Col with hoghest gain: ('comp', 1.0)\n"
          ],
          "name": "stdout"
        }
      ]
    },
    {
      "cell_type": "code",
      "metadata": {
        "id": "_0MXBsqEhiVB",
        "colab_type": "code",
        "colab": {
          "base_uri": "https://localhost:8080/",
          "height": 170
        },
        "outputId": "e38ddf3c-24c9-4035-db43-78bc4592dd5d"
      },
      "source": [
        "print(\"Col with hoghest gain:\",compute_col_highestGain(df[df['age']=='n']))"
      ],
      "execution_count": 84,
      "outputs": [
        {
          "output_type": "stream",
          "text": [
            "0.0 1.0\n",
            "gain of age : 0.0\n",
            "0.0 1.0\n",
            "0.0 1.0\n",
            "gain of comp : 0.0\n",
            "0.0 1.0\n",
            "0.0 1.0\n",
            "gain of types : 0.0\n",
            "Col with hoghest gain: {'u'}\n"
          ],
          "name": "stdout"
        }
      ]
    },
    {
      "cell_type": "code",
      "metadata": {
        "id": "uD9uZtQqm0D8",
        "colab_type": "code",
        "colab": {
          "base_uri": "https://localhost:8080/",
          "height": 170
        },
        "outputId": "7fb9cc18-d9fc-4428-d3a9-cb824c59597e"
      },
      "source": [
        "print(\"Col with hoghest gain:\",compute_col_highestGain(df[df['age']=='o']))"
      ],
      "execution_count": 86,
      "outputs": [
        {
          "output_type": "stream",
          "text": [
            "1.0 0.0\n",
            "gain of age : 0.0\n",
            "1.0 0.0\n",
            "1.0 0.0\n",
            "gain of comp : 0.0\n",
            "1.0 0.0\n",
            "1.0 0.0\n",
            "gain of types : 0.0\n",
            "Col with hoghest gain: {'d'}\n"
          ],
          "name": "stdout"
        }
      ]
    },
    {
      "cell_type": "code",
      "metadata": {
        "id": "YXc4TKCPrKNf",
        "colab_type": "code",
        "colab": {
          "base_uri": "https://localhost:8080/",
          "height": 289
        },
        "outputId": "fafcbf34-74e7-4cff-d8ab-4369aa19e353"
      },
      "source": [
        "new_df=df[df['age']=='m']\n",
        "print(\"Col with hoghest gain:\",compute_col_highestGain(new_df[new_df['comp']=='y']))\n",
        "print(\"Col with hoghest gain:\",compute_col_highestGain(new_df[new_df['comp']=='n']))"
      ],
      "execution_count": 88,
      "outputs": [
        {
          "output_type": "stream",
          "text": [
            "1.0 0.0\n",
            "gain of age : 0.0\n",
            "1.0 0.0\n",
            "gain of comp : 0.0\n",
            "1.0 0.0\n",
            "1.0 0.0\n",
            "gain of types : 0.0\n",
            "Col with hoghest gain: {'d'}\n",
            "0.0 1.0\n",
            "gain of age : 0.0\n",
            "0.0 1.0\n",
            "gain of comp : 0.0\n",
            "0.0 1.0\n",
            "0.0 1.0\n",
            "gain of types : 0.0\n",
            "Col with hoghest gain: {'u'}\n"
          ],
          "name": "stdout"
        }
      ]
    },
    {
      "cell_type": "markdown",
      "metadata": {
        "id": "zahvHXWYwTP6",
        "colab_type": "text"
      },
      "source": [
        "# Recursive Final Function "
      ]
    },
    {
      "cell_type": "code",
      "metadata": {
        "id": "Sq8Z-iHcrsqv",
        "colab_type": "code",
        "colab": {
          "base_uri": "https://localhost:8080/",
          "height": 323
        },
        "outputId": "63a70d5d-9efd-486a-f47d-6f81c02d44a5"
      },
      "source": [
        "def func(age,comp,types,df):\n",
        "  highest_gain=compute_col_highestGain(df)\n",
        "  if highest_gain=='age':\n",
        "    return func(age,comp,types,df[df['age']==age])\n",
        "  if highest_gain=='comp':\n",
        "    return func(age,comp,types,df[df['comp']==comp])\n",
        "  if highest_gain=='types':\n",
        "    return func(age,comp,types,df[df['age']==types])\n",
        "  else:\n",
        "    return highest_gain\n",
        "answer=func('n','n','s',df)\n",
        "  \n",
        "\n"
      ],
      "execution_count": 97,
      "outputs": [
        {
          "output_type": "stream",
          "text": [
            "1.0 0.0\n",
            "0.0 1.0\n",
            "0.5 0.5\n",
            "gain of age : 0.6\n",
            "0.3333333333333333 0.6666666666666666\n",
            "0.75 0.25\n",
            "gain of comp : 0.12451124978365313\n",
            "0.5 0.5\n",
            "0.5 0.5\n",
            "gain of types : 0.0\n",
            "0.0 1.0\n",
            "gain of age : 0.0\n",
            "0.0 1.0\n",
            "0.0 1.0\n",
            "gain of comp : 0.0\n",
            "0.0 1.0\n",
            "0.0 1.0\n",
            "gain of types : 0.0\n"
          ],
          "name": "stdout"
        }
      ]
    },
    {
      "cell_type": "markdown",
      "metadata": {
        "id": "aUy6AE7KyVv3",
        "colab_type": "text"
      },
      "source": [
        "# Final Answer"
      ]
    },
    {
      "cell_type": "code",
      "metadata": {
        "id": "4W3eKdAIyNoL",
        "colab_type": "code",
        "colab": {
          "base_uri": "https://localhost:8080/",
          "height": 34
        },
        "outputId": "2ee7f0a7-4222-47a9-93aa-e3ca6a3e7614"
      },
      "source": [
        "answer"
      ],
      "execution_count": 98,
      "outputs": [
        {
          "output_type": "execute_result",
          "data": {
            "text/plain": [
              "{'u'}"
            ]
          },
          "metadata": {
            "tags": []
          },
          "execution_count": 98
        }
      ]
    },
    {
      "cell_type": "markdown",
      "metadata": {
        "id": "WrxplXj8cQwP",
        "colab_type": "text"
      },
      "source": [
        "### Practice"
      ]
    },
    {
      "cell_type": "code",
      "metadata": {
        "id": "O9DaoweePpN3",
        "colab_type": "code",
        "colab": {
          "base_uri": "https://localhost:8080/",
          "height": 34
        },
        "outputId": "a913f5ac-bd9c-4bcc-84bf-c204bedc044a"
      },
      "source": [
        "df[df['age']=='o']['age'].count()\n",
        "df['age'].count()\n",
        "temp=df[(df['age']=='o' )& (df['profit']=='d')]['age'].count()/df[df['age']=='o']['age'].count()\n",
        "# df[(df['age']=='o' )& (df['profit']=='d')][col].count()/df[df[col]==i].count()\n",
        "math.log(temp,2)"
      ],
      "execution_count": 35,
      "outputs": [
        {
          "output_type": "execute_result",
          "data": {
            "text/plain": [
              "0.0"
            ]
          },
          "metadata": {
            "tags": []
          },
          "execution_count": 35
        }
      ]
    },
    {
      "cell_type": "code",
      "metadata": {
        "id": "mpWAcbuL-W3O",
        "colab_type": "code",
        "outputId": "64f9e5a3-6c38-4fd5-eb5e-ecc48034c170",
        "colab": {
          "base_uri": "https://localhost:8080/",
          "height": 85
        }
      },
      "source": [
        "set(df['outlook'])\n",
        "for i in set(df['outlook']):\n",
        "  print(df[df['outlook']==i]['outlook'].count())\n",
        "df['outlook'].count()"
      ],
      "execution_count": 0,
      "outputs": [
        {
          "output_type": "stream",
          "text": [
            "5\n",
            "5\n",
            "4\n"
          ],
          "name": "stdout"
        },
        {
          "output_type": "execute_result",
          "data": {
            "text/plain": [
              "14"
            ]
          },
          "metadata": {
            "tags": []
          },
          "execution_count": 12
        }
      ]
    },
    {
      "cell_type": "code",
      "metadata": {
        "id": "Rf_8c0ue-cqM",
        "colab_type": "code",
        "colab": {
          "base_uri": "https://localhost:8080/",
          "height": 34
        },
        "outputId": "15134554-235e-48d4-a915-59c2590a6f12"
      },
      "source": [
        "import math\n",
        "0.5*math.log(0.5,2)"
      ],
      "execution_count": 11,
      "outputs": [
        {
          "output_type": "execute_result",
          "data": {
            "text/plain": [
              "-0.5"
            ]
          },
          "metadata": {
            "tags": []
          },
          "execution_count": 11
        }
      ]
    },
    {
      "cell_type": "code",
      "metadata": {
        "id": "EEFGFgRPLXgg",
        "colab_type": "code",
        "colab": {
          "base_uri": "https://localhost:8080/",
          "height": 85
        },
        "outputId": "d8835ce0-cf4f-42c5-85a0-06f748e784d8"
      },
      "source": [
        "for col in df.columns:\n",
        "  print(col)"
      ],
      "execution_count": 56,
      "outputs": [
        {
          "output_type": "stream",
          "text": [
            "age\n",
            "comp\n",
            "types\n",
            "profit\n"
          ],
          "name": "stdout"
        }
      ]
    },
    {
      "cell_type": "code",
      "metadata": {
        "id": "xCdNSaqWdrm6",
        "colab_type": "code",
        "colab": {
          "base_uri": "https://localhost:8080/",
          "height": 34
        },
        "outputId": "1d2aeebf-6aa4-4b12-f0da-c5de4a52c857"
      },
      "source": [
        "set(df.columns).difference([\"profit\"])"
      ],
      "execution_count": 66,
      "outputs": [
        {
          "output_type": "execute_result",
          "data": {
            "text/plain": [
              "{'age', 'comp', 'types'}"
            ]
          },
          "metadata": {
            "tags": []
          },
          "execution_count": 66
        }
      ]
    },
    {
      "cell_type": "code",
      "metadata": {
        "id": "VQg9Ma27fzlm",
        "colab_type": "code",
        "colab": {
          "base_uri": "https://localhost:8080/",
          "height": 34
        },
        "outputId": "9ef270cb-91a0-4a18-964b-014ea7867b74"
      },
      "source": [
        "list('profit')"
      ],
      "execution_count": 64,
      "outputs": [
        {
          "output_type": "execute_result",
          "data": {
            "text/plain": [
              "['p', 'r', 'o', 'f', 'i', 't']"
            ]
          },
          "metadata": {
            "tags": []
          },
          "execution_count": 64
        }
      ]
    },
    {
      "cell_type": "code",
      "metadata": {
        "id": "2LY83bYkf45Z",
        "colab_type": "code",
        "colab": {
          "base_uri": "https://localhost:8080/",
          "height": 142
        },
        "outputId": "4a95b324-2ab7-42a7-be50-89dd7dff8265"
      },
      "source": [
        "df[df['age']=='n']"
      ],
      "execution_count": 77,
      "outputs": [
        {
          "output_type": "execute_result",
          "data": {
            "text/html": [
              "<div>\n",
              "<style scoped>\n",
              "    .dataframe tbody tr th:only-of-type {\n",
              "        vertical-align: middle;\n",
              "    }\n",
              "\n",
              "    .dataframe tbody tr th {\n",
              "        vertical-align: top;\n",
              "    }\n",
              "\n",
              "    .dataframe thead th {\n",
              "        text-align: right;\n",
              "    }\n",
              "</style>\n",
              "<table border=\"1\" class=\"dataframe\">\n",
              "  <thead>\n",
              "    <tr style=\"text-align: right;\">\n",
              "      <th></th>\n",
              "      <th>age</th>\n",
              "      <th>comp</th>\n",
              "      <th>types</th>\n",
              "      <th>profit</th>\n",
              "    </tr>\n",
              "  </thead>\n",
              "  <tbody>\n",
              "    <tr>\n",
              "      <th>7</th>\n",
              "      <td>n</td>\n",
              "      <td>y</td>\n",
              "      <td>s</td>\n",
              "      <td>u</td>\n",
              "    </tr>\n",
              "    <tr>\n",
              "      <th>8</th>\n",
              "      <td>n</td>\n",
              "      <td>n</td>\n",
              "      <td>h</td>\n",
              "      <td>u</td>\n",
              "    </tr>\n",
              "    <tr>\n",
              "      <th>9</th>\n",
              "      <td>n</td>\n",
              "      <td>n</td>\n",
              "      <td>s</td>\n",
              "      <td>u</td>\n",
              "    </tr>\n",
              "  </tbody>\n",
              "</table>\n",
              "</div>"
            ],
            "text/plain": [
              "  age comp types profit\n",
              "7   n    y     s      u\n",
              "8   n    n     h      u\n",
              "9   n    n     s      u"
            ]
          },
          "metadata": {
            "tags": []
          },
          "execution_count": 77
        }
      ]
    },
    {
      "cell_type": "code",
      "metadata": {
        "id": "bjA7Xm-xkWu2",
        "colab_type": "code",
        "colab": {
          "base_uri": "https://localhost:8080/",
          "height": 34
        },
        "outputId": "0f32e61b-2133-4382-ede9-d818bad1feb7"
      },
      "source": [
        "info('profit',df[df['age']=='n'])"
      ],
      "execution_count": 79,
      "outputs": [
        {
          "output_type": "execute_result",
          "data": {
            "text/plain": [
              "0.0"
            ]
          },
          "metadata": {
            "tags": []
          },
          "execution_count": 79
        }
      ]
    },
    {
      "cell_type": "code",
      "metadata": {
        "id": "dZOA5anKkc2k",
        "colab_type": "code",
        "colab": {
          "base_uri": "https://localhost:8080/",
          "height": 51
        },
        "outputId": "415785b4-5060-47e2-8317-42a8539b1ef8"
      },
      "source": [
        "info_col('age',df[df['age']=='n'])"
      ],
      "execution_count": 82,
      "outputs": [
        {
          "output_type": "stream",
          "text": [
            "0.0 1.0\n"
          ],
          "name": "stdout"
        },
        {
          "output_type": "execute_result",
          "data": {
            "text/plain": [
              "0.0"
            ]
          },
          "metadata": {
            "tags": []
          },
          "execution_count": 82
        }
      ]
    },
    {
      "cell_type": "code",
      "metadata": {
        "id": "J_tnwVjJk-k3",
        "colab_type": "code",
        "colab": {}
      },
      "source": [
        ""
      ],
      "execution_count": 0,
      "outputs": []
    }
  ]
}